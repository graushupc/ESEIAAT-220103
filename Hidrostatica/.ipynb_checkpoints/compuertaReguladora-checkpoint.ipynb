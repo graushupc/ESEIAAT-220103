{
 "cells": [
  {
   "cell_type": "markdown",
   "metadata": {},
   "source": [
    "## Compuerta reguladora de nivel\n",
    "\n",
    "_G. Raush_\n",
    "\n",
    "_Feb 2020_"
   ]
  },
  {
   "cell_type": "markdown",
   "metadata": {},
   "source": [
    "<h3>Enunciado</h3>\n",
    "\n",
    "Un canal de  agua está regulado por una compuerta en forma de _L_ que actua según un balance de fuerzas alrededor del punto de rotación _O_. Normalmente está cerrada mientras la altura del nivel del agua no llega a un valor $h$ medido respecto al punto de rotación _O_. Tal como se muestra en la figura adjunta.  \n",
    "\n",
    "Cuando $h$ supera un nivel determinado la compuerta rota en sentido horario, ya que el contratio está impedido por el tope _B_, y deja escapar líquido, bajando el nivel del caudal trasvasado. \n",
    "\n",
    "\n",
    "Se pide calcular  el valor mínimo de la relación h / H que  asegurará  la apertura de la compuerta."
   ]
  },
  {
   "cell_type": "markdown",
   "metadata": {},
   "source": [
    "![Esquema de compuerta](compuertaReguladora.png)"
   ]
  },
  {
   "cell_type": "markdown",
   "metadata": {},
   "source": [
    "### Hipótesis\n",
    "\n",
    "- Densidad uniforme (isotropía de la densidad)\n",
    "- Fuido incompresible (no se tiene en cuenta los efectos de $\\kappa = \\partial P/\\partial\\rho$)\n",
    "- Condiciones isotérmicas\n",
    "- Sistema fluidoestático (no se consideran las  fuerzas dinámicas)\n",
    "- No se considera rozamiento mecánico en el punto de rotación _O_\n"
   ]
  },
  {
   "cell_type": "markdown",
   "metadata": {},
   "source": [
    "__Explicación__\n",
    "\n",
    "Si el nivel de agua $h$ es lo suficientemente alto, la fuerza de presión en la cara vertical de la  compuerta generará  un momento en el sentido de las agujas del reloj que excederá el momento en el sentido contrario, originado por  la fuerza de presión en el ala  horizontal , y el canal verterá fluido por la apertura de la base. Para la solución es importante evaluar la ecuación de los momentos $$M_{S1} = M_{S2}$$ \n",
    "\n",
    "debido a las fuerzas del fluido en cada una de las caras de la compuerta.  \n",
    "\n",
    "Las fuerzas $F_{s1}$ y   $F_{s2}$ no responden de la misma manera a la variación de $h$. \n"
   ]
  },
  {
   "cell_type": "code",
   "execution_count": 55,
   "metadata": {},
   "outputs": [],
   "source": [
    "from sympy import Symbol, symbols, cos, tan, sqrt, pi, init_printing\n",
    "import sympy as sp\n",
    "from matplotlib import pyplot as plt\n",
    "%matplotlib inline\n",
    "init_printing()"
   ]
  },
  {
   "cell_type": "code",
   "execution_count": 56,
   "metadata": {},
   "outputs": [],
   "source": [
    "g,H,h, b = symbols('g H h b')\n",
    "rho = Symbol('rho')"
   ]
  },
  {
   "cell_type": "markdown",
   "metadata": {},
   "source": [
    "Fuerza aplicada sobre la superficie cualquiera es igual a, $$F = p_{CG} S$$\n",
    "para $$p_{CG} = \\rho g h_{CG}$$\n",
    "siendo $h_{CG}$ la profundidad al centro de gravedad $CG$ de la superficie mojada "
   ]
  },
  {
   "cell_type": "markdown",
   "metadata": {},
   "source": [
    "$Fs_1$ y $Fs_2$ es la fuerza sobre cada una de las superficies"
   ]
  },
  {
   "cell_type": "code",
   "execution_count": 57,
   "metadata": {},
   "outputs": [],
   "source": [
    "Fs_1 = (rho * g * h/2) * h * b\n",
    "Fs_2 = (rho * g * h) * H * b"
   ]
  },
  {
   "cell_type": "code",
   "execution_count": 58,
   "metadata": {},
   "outputs": [
    {
     "data": {
      "image/png": "[encoded data removed]",
      "text/latex": [
       "$\\displaystyle \\frac{b g h^{2} \\rho}{2}$"
      ],
      "text/plain": [
       "     2  \n",
       "b⋅g⋅h ⋅ρ\n",
       "────────\n",
       "   2    "
      ]
     },
     "execution_count": 58,
     "metadata": {},
     "output_type": "execute_result"
    }
   ],
   "source": [
    "Fs_1"
   ]
  },
  {
   "cell_type": "code",
   "execution_count": 59,
   "metadata": {},
   "outputs": [
    {
     "data": {
      "image/png": "[encoded data removed]",
      "text/latex": [
       "$\\displaystyle H b g h \\rho$"
      ],
      "text/plain": [
       "H⋅b⋅g⋅h⋅ρ"
      ]
     },
     "execution_count": 59,
     "metadata": {},
     "output_type": "execute_result"
    }
   ],
   "source": [
    "Fs_2"
   ]
  },
  {
   "cell_type": "markdown",
   "metadata": {},
   "source": [
    "Los valores de las fuerzas sobre cada una de las superficies,\n",
    "$$Fs_{1} = \\frac{b g h^{2} \\rho}{2}$$\n",
    "\n",
    "$$Fs_2 = H b g h \\rho$$"
   ]
  },
  {
   "cell_type": "markdown",
   "metadata": {},
   "source": [
    "<h4>Puntos de aplicación</h4>\n",
    "\n",
    "Como las fuerzas son cantidades vectoriales no basta solo con conocer su magnitud. Tambié necesitamos la dirección y el punto de aplicación de ambas.\n",
    "\n",
    "La posición la conocemos a través de la búsqueda de los centros de presión $CP$.\n",
    "\n",
    "Responde a la applicación de la expresión, \n",
    "\n",
    "$$y_{CP} = y_{CG} + \\frac{I_{\\zeta \\zeta}} {\\left(y_{CG} + \\frac{p_{0}}{g\\rho \\sin \\theta}\\right)A}$$\n",
    "\n",
    "Equivalente a,\n",
    "\n",
    "$$y_{CP} = y_{CG} + \\frac{\\left(g\\rho \\sin \\theta\\right) I_{\\zeta \\zeta}} {F_{CG} }$$\n"
   ]
  },
  {
   "cell_type": "markdown",
   "metadata": {},
   "source": [
    "Basado en la figura de los sistemas de referencias siguientes,\n",
    "\n",
    "![Sistemas de coordenadas](planeSurfaceScheme.png)\n",
    "\n",
    "Mayores detalles en [1]"
   ]
  },
  {
   "cell_type": "markdown",
   "metadata": {},
   "source": [
    "Para el caso de las dos superficies , los puntos de aplicación son ,\n",
    "$$y_{CG1} = h/2$$\n",
    "y el momento de innercia para una superficie rectangular,\n",
    "$$I_{\\zeta \\zeta} = \\frac{1}{12} b h^3$$\n",
    "\n",
    "y el punto de aplicación de la fuerza "
   ]
  },
  {
   "cell_type": "code",
   "execution_count": 60,
   "metadata": {},
   "outputs": [],
   "source": [
    "ycg1 = h / 2\n",
    "Ixx = 1 / 12 * b * h**3\n",
    "ycp1 = ycg1 + Ixx / (ycg1 * b * h)"
   ]
  },
  {
   "cell_type": "code",
   "execution_count": 61,
   "metadata": {},
   "outputs": [
    {
     "data": {
      "image/png": "[encoded data removed]",
      "text/latex": [
       "$\\displaystyle 0.666666666666667 h$"
      ],
      "text/plain": [
       "0.666666666666667⋅h"
      ]
     },
     "execution_count": 61,
     "metadata": {},
     "output_type": "execute_result"
    }
   ],
   "source": [
    "ycp1 "
   ]
  },
  {
   "cell_type": "markdown",
   "metadata": {},
   "source": [
    "Para el caso de $S_2$ el punto de aplicación y el centro de gravedad coinciden, por estar horizontal ,\n",
    "$$y_{CP2} \\equiv y_{CG2}$$"
   ]
  },
  {
   "cell_type": "markdown",
   "metadata": {},
   "source": [
    "Esto permite calcular los momentos realizados por cada una de las fuerza, ahora que los puntos de aplicación son conocidos. Los brazos de palancas son con referencia al punto de rotación _O_"
   ]
  },
  {
   "cell_type": "code",
   "execution_count": 62,
   "metadata": {},
   "outputs": [
    {
     "data": {
      "image/png": "[encoded data removed]",
      "text/latex": [
       "$\\displaystyle 0.166666666666667 b g h^{3} \\rho = \\frac{H^{2} b g h \\rho}{2}$"
      ],
      "text/plain": [
       "                              2        \n",
       "                       3     H ⋅b⋅g⋅h⋅ρ\n",
       "0.166666666666667⋅b⋅g⋅h ⋅ρ = ──────────\n",
       "                                 2     "
      ]
     },
     "execution_count": 62,
     "metadata": {},
     "output_type": "execute_result"
    }
   ],
   "source": [
    "sp.Eq(Fs_1 * (h - ycp1), Fs_2 * H / 2)"
   ]
  },
  {
   "cell_type": "code",
   "execution_count": 63,
   "metadata": {},
   "outputs": [
    {
     "data": {
      "image/png": "[encoded data removed]",
      "text/latex": [
       "$\\displaystyle \\left[ 0.0, \\  - 1.73205080756888 H, \\  1.73205080756888 H\\right]$"
      ],
      "text/plain": [
       "[0.0, -1.73205080756888⋅H, 1.73205080756888⋅H]"
      ]
     },
     "execution_count": 63,
     "metadata": {},
     "output_type": "execute_result"
    }
   ],
   "source": [
    "sp.solve(sp.Eq(Fs_1 * (h - ycp1), Fs_2 * H / 2),h)"
   ]
  },
  {
   "cell_type": "markdown",
   "metadata": {},
   "source": [
    "Solamente tiene sentido físico a la pregunta inicial $$h = \\sqrt{3} H$$"
   ]
  },
  {
   "cell_type": "markdown",
   "metadata": {},
   "source": [
    "<h2>References</h2>\n",
    "\n",
    "1. PRITCHARD, P. J., & LEYLEGIAN, J. C. (2011). Fox and McDonald’s INTRODUCTION TO FLUID MECHANICS (EIGHTH Ed.). John Wiley & Sons, Inc."
   ]
  }
 ],
 "metadata": {
  "kernelspec": {
   "display_name": "Python 3",
   "language": "python",
   "name": "python3"
  },
  "language_info": {
   "codemirror_mode": {
    "name": "ipython",
    "version": 3
   },
   "file_extension": ".py",
   "mimetype": "text/x-python",
   "name": "python",
   "nbconvert_exporter": "python",
   "pygments_lexer": "ipython3",
   "version": "3.8.8"
  }
 },
 "nbformat": 4,
 "nbformat_minor": 4
}
