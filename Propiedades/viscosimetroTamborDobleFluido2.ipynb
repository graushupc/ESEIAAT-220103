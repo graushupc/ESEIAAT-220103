{
 "cells": [
  {
   "cell_type": "markdown",
   "metadata": {
    "slideshow": {
     "slide_type": "slide"
    },
    "tags": []
   },
   "source": [
    "### Caso Viscosímetro de Tambor con Fluidos Inmiscibles\n",
    "\n",
    "_G. Raush_\n",
    "\n",
    "_Setiembre 2019_\n",
    "\n",
    "_**Departamento de Mecànica de Fluids-UPC**_"
   ]
  },
  {
   "cell_type": "markdown",
   "metadata": {},
   "source": [
    "Calcular el par motor necesario apra llegar a un régimen estacionario en el caso de un viscosimetro de tambor con doble fluido inmicsible $\\mu_1$ y $\\mu_2$.\n",
    "el tambor interior gira a velocidad $\\omega$ , perfectamente centrado respecto del vaso exterior de diámetro $D$. Los separa el fluido de viscosidad $\\mu_1$ existiendo en la parte inverior un fluido con viscosidad $\\mu_2$."
   ]
  },
  {
   "cell_type": "code",
   "execution_count": 4,
   "metadata": {},
   "outputs": [
    {
     "data": {
      "image/png": "[encoded data removed]",
      "text/plain": [
       "<IPython.core.display.Image object>"
      ]
     },
     "execution_count": 4,
     "metadata": {
      "image/png": {
       "width": 300
      }
     },
     "output_type": "execute_result"
    }
   ],
   "source": [
    "from IPython.display import Image\n",
    "Image(filename='viscosimetroDeTamborDosFluidos.png', width=300)"
   ]
  },
  {
   "cell_type": "markdown",
   "metadata": {},
   "source": [
    "<!-- <img src='viscosimetroDeTamborDosFluidos.png' style='width=100px'/> -->"
   ]
  },
  {
   "cell_type": "markdown",
   "metadata": {
    "slideshow": {
     "slide_type": "slide"
    }
   },
   "source": [
    "Comandos Importación de paquetes   necesarios para  el tratamiento simbólico"
   ]
  },
  {
   "cell_type": "code",
   "execution_count": 46,
   "metadata": {},
   "outputs": [],
   "source": [
    "import sympy as sp\n",
    "import matplotlib.pyplot as plt\n",
    "from sympy.printing import latex\n",
    "%matplotlib inline\n"
   ]
  },
  {
   "cell_type": "markdown",
   "metadata": {
    "slideshow": {
     "slide_type": "slide"
    }
   },
   "source": [
    "Definición de las variables del problema"
   ]
  },
  {
   "cell_type": "code",
   "execution_count": 47,
   "metadata": {},
   "outputs": [],
   "source": [
    "e,D,d,H,h,omega,pi,mu1,mu2,g = sp.symbols('e,D,d,H,h,omega,pi,mu1,mu2,g')\n",
    "dh, tau1 = sp.symbols('dh,tau1')\n",
    "dV_dy = sp.symbols('dV/dy')"
   ]
  },
  {
   "cell_type": "markdown",
   "metadata": {
    "slideshow": {
     "slide_type": "slide"
    }
   },
   "source": [
    "Ley de Newton de la viscosidad"
   ]
  },
  {
   "cell_type": "code",
   "execution_count": 48,
   "metadata": {
    "slideshow": {
     "slide_type": "-"
    }
   },
   "outputs": [
    {
     "data": {
      "text/latex": [
       "$\\displaystyle dV/dy \\mu_{1}$"
      ],
      "text/plain": [
       "dV/dy*mu1"
      ]
     },
     "execution_count": 48,
     "metadata": {},
     "output_type": "execute_result"
    }
   ],
   "source": [
    "tau1 = mu1*dV_dy\n",
    "#sp.pprint(tau1)\n",
    "tau1"
   ]
  },
  {
   "cell_type": "markdown",
   "metadata": {
    "slideshow": {
     "slide_type": "slide"
    }
   },
   "source": [
    "Asumiendo un perfil de velocidad lineal, el  gradiente de la velocidad es una constante. "
   ]
  },
  {
   "cell_type": "code",
   "execution_count": 49,
   "metadata": {},
   "outputs": [
    {
     "data": {
      "text/latex": [
       "$\\displaystyle \\frac{D \\mu_{1} \\omega}{2 h}$"
      ],
      "text/plain": [
       "D*mu1*omega/(2*h)"
      ]
     },
     "execution_count": 49,
     "metadata": {},
     "output_type": "execute_result"
    }
   ],
   "source": [
    "tau1 = tau1.subs(dV_dy,omega*D/2/h)\n",
    "#sp.pprint(tau1)\n",
    "tau1"
   ]
  },
  {
   "cell_type": "markdown",
   "metadata": {},
   "source": [
    "$$\\tau_1 = \\frac{D \\mu_{1} \\omega}{2 h}$$"
   ]
  },
  {
   "cell_type": "markdown",
   "metadata": {
    "slideshow": {
     "slide_type": "slide"
    }
   },
   "source": [
    "Por definición , el esfuerzo $\\tau_1$ en una fuerza repartida en un área. Por lo tanto, para calcular la fuerza ejercida necesitamos conocer el área de aplicación."
   ]
  },
  {
   "cell_type": "code",
   "execution_count": 51,
   "metadata": {
    "slideshow": {
     "slide_type": "-"
    }
   },
   "outputs": [
    {
     "data": {
      "text/latex": [
       "$\\displaystyle D dz \\pi$"
      ],
      "text/plain": [
       "D*dz*pi"
      ]
     },
     "execution_count": 51,
     "metadata": {},
     "output_type": "execute_result"
    }
   ],
   "source": [
    "dA,dz = sp.symbols('dA,dz')\n",
    "dA = pi*D*dz\n",
    "dA"
   ]
  },
  {
   "cell_type": "markdown",
   "metadata": {},
   "source": [
    "El diferencial de área , $dA = \\pi D dz$"
   ]
  },
  {
   "cell_type": "markdown",
   "metadata": {},
   "source": [
    "El diferencial de momentos es el producto del diferencial de fuerza por el brazo de palanca"
   ]
  },
  {
   "cell_type": "code",
   "execution_count": 52,
   "metadata": {},
   "outputs": [
    {
     "data": {
      "text/latex": [
       "$\\displaystyle \\frac{D^{3} dz \\mu_{1} \\omega \\pi}{4 h}$"
      ],
      "text/plain": [
       "D**3*dz*mu1*omega*pi/(4*h)"
      ]
     },
     "execution_count": 52,
     "metadata": {},
     "output_type": "execute_result"
    }
   ],
   "source": [
    "dM = sp.symbols('dM1')\n",
    "dM = (tau1*dA)*D/2\n",
    "dM"
   ]
  },
  {
   "cell_type": "markdown",
   "metadata": {},
   "source": [
    "El diferencial de momento es función lineal con el número de revoluciones, por tratarse de un fluido newtoniano, (tiene un  perfil de velocidad lineal en su gradiente)\n",
    "\n",
    "$$dM = \\frac{D^{3}  \\mu_{1} \\omega \\pi}{4 h}dz$$"
   ]
  },
  {
   "cell_type": "markdown",
   "metadata": {
    "slideshow": {
     "slide_type": "slide"
    }
   },
   "source": [
    "Integramos en el dominio de la variable, $0 \\le z \\le H$. Este es el momento total aplicado en la pared del cilindro."
   ]
  },
  {
   "cell_type": "code",
   "execution_count": 54,
   "metadata": {},
   "outputs": [
    {
     "data": {
      "text/latex": [
       "$\\displaystyle \\frac{D^{3} H \\mu_{1} \\omega \\pi}{4 h}$"
      ],
      "text/plain": [
       "D**3*H*mu1*omega*pi/(4*h)"
      ]
     },
     "execution_count": 54,
     "metadata": {},
     "output_type": "execute_result"
    }
   ],
   "source": [
    "M1 = sp.integrate(dM/dz,H)\n",
    "#sp.pprint(M1)\n",
    "M1"
   ]
  },
  {
   "cell_type": "markdown",
   "metadata": {},
   "source": [
    "$$M_1 = \\frac{D^{3} H \\mu_{1} \\omega \\pi}{4 h}$$ "
   ]
  },
  {
   "cell_type": "markdown",
   "metadata": {
    "slideshow": {
     "slide_type": "slide"
    }
   },
   "source": [
    "Ecuación de momentos mecánicos en la pared de la base del cilindro rotante. Hay dos momentos diferentes debido a la existencia de dos fluidos. En ambos casos se calculan igual, solo que cambian las propiedades de los fluidos y los límites de integración.\n"
   ]
  },
  {
   "cell_type": "code",
   "execution_count": 56,
   "metadata": {
    "slideshow": {
     "slide_type": "skip"
    }
   },
   "outputs": [],
   "source": [
    "r,dr = sp.symbols('r,dr')"
   ]
  },
  {
   "cell_type": "markdown",
   "metadata": {},
   "source": [
    "Caso para el fluido 1, viscosidad: $\\mu_1$. La región de existencia es entre $d/2 \\le r \\le D/2$  "
   ]
  },
  {
   "cell_type": "code",
   "execution_count": 57,
   "metadata": {},
   "outputs": [
    {
     "data": {
      "text/latex": [
       "$\\displaystyle \\frac{D^{4} \\mu_{1} \\omega \\pi}{32 e} - \\frac{d^{4} \\mu_{1} \\omega \\pi}{32 e}$"
      ],
      "text/plain": [
       "D**4*mu1*omega*pi/(32*e) - d**4*mu1*omega*pi/(32*e)"
      ]
     },
     "execution_count": 57,
     "metadata": {},
     "output_type": "execute_result"
    }
   ],
   "source": [
    "dM = ((omega*r/e)*mu1)*(2*pi*r)*r*dr\n",
    "M2 = sp.integrate(dM/dr,(r,d/2,D/2))\n",
    "#sp.pprint(M2)\n",
    "M2"
   ]
  },
  {
   "cell_type": "code",
   "execution_count": 58,
   "metadata": {},
   "outputs": [
    {
     "data": {
      "text/latex": [
       "$\\displaystyle \\frac{\\mu_{1} \\omega \\pi \\left(D^{4} - d^{4}\\right)}{32 e}$"
      ],
      "text/plain": [
       "mu1*omega*pi*(D**4 - d**4)/(32*e)"
      ]
     },
     "execution_count": 58,
     "metadata": {},
     "output_type": "execute_result"
    }
   ],
   "source": [
    "M2 = M2.simplify()\n",
    "#sp.pprint(M2)\n",
    "M2"
   ]
  },
  {
   "cell_type": "markdown",
   "metadata": {},
   "source": [
    "$$M_2 = \\frac{\\mu_{1} \\omega \\pi \\left(D^{4} - d^{4}\\right)}{32 e}$$"
   ]
  },
  {
   "cell_type": "markdown",
   "metadata": {
    "slideshow": {
     "slide_type": "slide"
    }
   },
   "source": [
    "Cálculo similar para el caso del Fluido 2, viscosidad : $\\mu_2$, en el caso del ejemplo _Agua_\n",
    "\n",
    "Ahora el dominio de la variable de integración es $0 \\le r \\le d/2$"
   ]
  },
  {
   "cell_type": "code",
   "execution_count": 60,
   "metadata": {},
   "outputs": [
    {
     "data": {
      "text/latex": [
       "$\\displaystyle \\frac{d^{4} \\mu_{2} \\omega \\pi}{32 e}$"
      ],
      "text/plain": [
       "d**4*mu2*omega*pi/(32*e)"
      ]
     },
     "execution_count": 60,
     "metadata": {},
     "output_type": "execute_result"
    }
   ],
   "source": [
    "dM = ((omega*r/e)*mu2)*(2*pi*r)*r*dr\n",
    "M3 = sp.integrate(dM/dr,(r,0,d/2))\n",
    "M3 #sp.pprint(M3)"
   ]
  },
  {
   "cell_type": "code",
   "execution_count": 61,
   "metadata": {},
   "outputs": [],
   "source": [
    "#latex(M3)"
   ]
  },
  {
   "cell_type": "markdown",
   "metadata": {},
   "source": [
    "$$M_3 = \\frac{d^{4} \\mu_{2} \\omega \\pi}{32 e}$$"
   ]
  },
  {
   "cell_type": "markdown",
   "metadata": {
    "slideshow": {
     "slide_type": "slide"
    }
   },
   "source": [
    "El momento total sobre el rotor es la sumatoria de ellos. $$M_t = \\sum M_i$$\n"
   ]
  },
  {
   "cell_type": "code",
   "execution_count": 62,
   "metadata": {
    "slideshow": {
     "slide_type": "skip"
    }
   },
   "outputs": [
    {
     "data": {
      "text/latex": [
       "$\\displaystyle \\frac{D^{3} H \\mu_{1} \\omega \\pi}{4 h} + \\frac{d^{4} \\mu_{2} \\omega \\pi}{32 e} + \\frac{\\mu_{1} \\omega \\pi \\left(D^{4} - d^{4}\\right)}{32 e}$"
      ],
      "text/plain": [
       "D**3*H*mu1*omega*pi/(4*h) + d**4*mu2*omega*pi/(32*e) + mu1*omega*pi*(D**4 - d**4)/(32*e)"
      ]
     },
     "execution_count": 62,
     "metadata": {},
     "output_type": "execute_result"
    }
   ],
   "source": [
    "M = M1+M2+M3\n",
    "M #sp.pprint(M)\n",
    "#sp.print_latex(M)"
   ]
  },
  {
   "cell_type": "markdown",
   "metadata": {
    "slideshow": {
     "slide_type": "-"
    }
   },
   "source": [
    "Solución del momento total:\n",
    "\n",
    "$$M = \\frac{D^{3} H \\mu_{1} \\omega \\pi}{4 h} + \\frac{d^{4} \\mu_{2} \\omega \\pi}{32 e} + \\frac{\\mu_{1} \\omega \\pi \\left(D^{4} - d^{4}\\right)}{32 e}$$"
   ]
  },
  {
   "cell_type": "markdown",
   "metadata": {},
   "source": [
    "Como vemos en la expresión anterior, la presencia de un fluido extraño, por ejemplo: agua en aceite, el término de $\\mu_2$ desaparecería.  "
   ]
  },
  {
   "cell_type": "code",
   "execution_count": 64,
   "metadata": {},
   "outputs": [
    {
     "data": {
      "text/latex": [
       "$\\displaystyle \\frac{\\mu_{1} \\omega \\pi \\left(8 D^{3} H e + h \\left(D^{4} - d^{4}\\right)\\right)}{32 e h}$"
      ],
      "text/plain": [
       "mu1*omega*pi*(8*D**3*H*e + h*(D**4 - d**4))/(32*e*h)"
      ]
     },
     "execution_count": 64,
     "metadata": {},
     "output_type": "execute_result"
    }
   ],
   "source": [
    "M.subs(mu2,0).simplify()"
   ]
  },
  {
   "cell_type": "markdown",
   "metadata": {},
   "source": [
    "De donde se puede despejar $\\mu_1$ y obtener la constante de calibración del viscosímetro."
   ]
  },
  {
   "cell_type": "markdown",
   "metadata": {},
   "source": [
    "La potencia consumida por el viscosímetros es,"
   ]
  },
  {
   "cell_type": "code",
   "execution_count": 65,
   "metadata": {},
   "outputs": [
    {
     "data": {
      "text/latex": [
       "$\\displaystyle \\frac{\\mu_{1} \\omega^{2} \\pi \\left(8 D^{3} H e + h \\left(D^{4} - d^{4}\\right)\\right)}{32 e h}$"
      ],
      "text/plain": [
       "mu1*omega**2*pi*(8*D**3*H*e + h*(D**4 - d**4))/(32*e*h)"
      ]
     },
     "execution_count": 65,
     "metadata": {},
     "output_type": "execute_result"
    }
   ],
   "source": [
    "Pw = omega * M.subs(mu2,0)\n",
    "Pw.expand().simplify()"
   ]
  },
  {
   "cell_type": "code",
   "execution_count": 66,
   "metadata": {},
   "outputs": [],
   "source": [
    "Pw = sp.Symbol('Pot')\n",
    "eq = sp.Eq(Pw - omega * M.subs(mu2,0))\n",
    "#eq\n",
    "#sp.solve(eq,mu1)"
   ]
  },
  {
   "cell_type": "markdown",
   "metadata": {},
   "source": [
    "Con la medida de la potencia $P_{tot}$ y una velocidad $\\omega$ se puede conocer el valor de la viscosidad $\\mu_1$ y los demás términos constantes se pueden conocer haciendo una calibración del viscosímetro usando un fluido de referencia como el agua."
   ]
  },
  {
   "cell_type": "code",
   "execution_count": 67,
   "metadata": {},
   "outputs": [
    {
     "data": {
      "text/latex": [
       "$\\displaystyle \\frac{32 Pot e h}{\\omega^{2} \\pi \\left(D^{4} h + 8 D^{3} H e - d^{4} h\\right)}$"
      ],
      "text/plain": [
       "32*Pot*e*h/(omega**2*pi*(D**4*h + 8*D**3*H*e - d**4*h))"
      ]
     },
     "execution_count": 67,
     "metadata": {},
     "output_type": "execute_result"
    }
   ],
   "source": [
    "sp.solve(eq,mu1)[0].simplify()"
   ]
  },
  {
   "cell_type": "code",
   "execution_count": null,
   "metadata": {},
   "outputs": [],
   "source": []
  }
 ],
 "metadata": {
  "celltoolbar": "Slideshow",
  "kernelspec": {
   "display_name": "Python 3 (ipykernel)",
   "language": "python",
   "name": "python3"
  },
  "language_info": {
   "codemirror_mode": {
    "name": "ipython",
    "version": 3
   },
   "file_extension": ".py",
   "mimetype": "text/x-python",
   "name": "python",
   "nbconvert_exporter": "python",
   "pygments_lexer": "ipython3",
   "version": "3.7.11"
  }
 },
 "nbformat": 4,
 "nbformat_minor": 4
}
