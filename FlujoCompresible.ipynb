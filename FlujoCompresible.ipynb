{
 "cells": [
  {
   "cell_type": "markdown",
   "metadata": {},
   "source": [
    "FLUJO COMPRESIBLE\n",
    "===\n",
    "***"
   ]
  },
  {
   "cell_type": "markdown",
   "metadata": {},
   "source": [
    "### Conceptos básicos\n",
    "***"
   ]
  },
  {
   "cell_type": "markdown",
   "metadata": {},
   "source": [
    "Decimos que un flujo es compresible cuando su variación de densidad no es menospreciable. \n",
    "\n",
    "El parámetro más importante es el **Número de Mach**, definido como \n",
    "\n",
    "$$\n",
    "\\text{Ma} = \\frac{u}{c}\n",
    "$$\n",
    "\n",
    "donde $c$ es la velocidad del sonido, que se calcula, para un gas ideal como\n",
    "$$\n",
    "c = \\sqrt{\\gamma r T}\n",
    "$$\n",
    "donde $\\gamma = \\frac{c_p}{c_v}$ es el *coeficiente adiabátic* y $r=\\frac{R}{m_\\text{mol}}$ es la constante del gas.\n",
    "\n",
    "Vamos a definir ya estos valores para los cálculos que vendrán más adelante"
   ]
  },
  {
   "cell_type": "code",
   "execution_count": 1,
   "metadata": {},
   "outputs": [],
   "source": [
    "gamma = 1.4\n",
    "r = 287"
   ]
  },
  {
   "cell_type": "markdown",
   "metadata": {},
   "source": [
    "En base al valor de $\\text{Ma}$ se definen diferentes tipos de flujo:\n",
    "\n",
    "* $\\text{Ma} < 0.3$ : Incompresible\n",
    "* $0.3 < \\text{Ma} < 0.8$ : Subsónico\n",
    "* $0.8 < \\text{Ma} < 1.2$ : Transónico\n",
    "* $1.2 < \\text{Ma} < 5$ : Supersónico\n",
    "* $\\text{Ma} > 5$ : Hipersónico"
   ]
  },
  {
   "cell_type": "markdown",
   "metadata": {},
   "source": [
    "### Ecuación de Bernoulli para flujo compresible\n",
    "\n",
    "La conservación de la energía, para flujo adiabático sin transferencia ni de calor ni trabajo lleva a \n",
    "\n",
    "$$\n",
    "c_p T_0 = c_p T + \\frac{1}{2}u^2\n",
    "$$\n",
    "\n",
    "y, adimensionalizando, a\n",
    "\n",
    "\n",
    "\\begin{equation}\n",
    "\\label{eq:EB}\n",
    "\\boxed{\\frac{T_0}{T} = 1 + \\frac{\\gamma - 1}{2}\\text{Ma}^2}\n",
    "\\end{equation}\n",
    "\n",
    "Donde $T_0$ es la **temperatura total, de remanso o de estancamiento**. A partir de aqui se pueden también definir las presiones y densidad total con\n",
    "\n",
    "\\begin{equation}\n",
    "\\frac{p_0}{p} = \\left( \\frac{T_0}{T} \\right)^\\frac{\\gamma}{\\gamma-1} = \\left( 1 + \\frac{\\gamma - 1}{2}\\text{Ma}^2 \\right)^\\frac{\\gamma}{\\gamma-1} \\\\\n",
    "\\frac{\\rho_0}{\\rho} = \\left( \\frac{T_0}{T} \\right)^\\frac{1}{\\gamma-1} = \\left( 1 + \\frac{\\gamma - 1}{2}\\text{Ma}^2 \\right)^\\frac{1}{\\gamma-1}\n",
    "\\end{equation}\n",
    "\n"
   ]
  },
  {
   "cell_type": "markdown",
   "metadata": {},
   "source": [
    "### Valores sónicos o críticos\n",
    "\n",
    "Unos valores particularmente importantes de las magnitudes son los *valores sónicos o críticos* que se dan cuando $\\text{Ma} = 1$\n",
    "\n",
    "\\begin{equation}\n",
    "T^{*}=T_{0}\\frac{2}{\\gamma+1} \\\\ \n",
    "p^{*}=p_{0}\\left(\\frac{2}{\\gamma+1}\\right)^{\\frac{\\gamma}{\\gamma-1}} \\\\\n",
    "\\rho^{*}=\\rho_{0}\\left(\\frac{2}{\\gamma+1}\\right)^{\\frac{1}{\\gamma-1}}\\\\ \n",
    "c^{*}(=u^{*})=c_{0}\\left(\\frac{2}{\\gamma+1}\\right)^{\\frac{1}{2}}\n",
    "\\end{equation}"
   ]
  },
  {
   "cell_type": "markdown",
   "metadata": {},
   "source": [
    "### Flujo isentrópico en toberas\n",
    "\n",
    "Considerando flujo estacionario y unidimensional, la condición de continuidad lleva a \n",
    "\n",
    "\\begin{equation}\n",
    "\\rho(x)u(x)A(x) = \\dot{m} \\;( = \\text{constante})\n",
    "\\end{equation}\n",
    "\n",
    "![conducto1](conducto1.png)\n",
    "\n",
    "Combinando esta condición con la ecuación de Euler y la compresibilidad del fluid ($\\text{d}p = c^2 \\text{d}\\rho$), se llega a\n",
    "\n",
    "\\begin{equation}\n",
    "\\frac{\\text d u}{u}=-\\frac{\\text d p}{\\rho u^{2}}=\\frac{1}{\\text{Ma}^{2}-1}\\frac{\\text d A}{A}\n",
    "\\end{equation}\n",
    "\n",
    "y esto lleva a que el comportamiento de una tobera convergente o divergente depende del valor de $\\text{Ma}$\n",
    "\n",
    "![toberas](toberas.png)"
   ]
  },
  {
   "cell_type": "markdown",
   "metadata": {},
   "source": [
    "En condiciones críticas o sónicas, el flujo másico sigue siendo el mismo\n",
    "\n",
    "\\\\[\n",
    "\\rho^{*}u^{*}A^{*}=\\rho uA=\\dot{m}\\,\\Rightarrow\\frac{A}{A^{*}}=\\frac{\\rho^{*}u^{*}}{\\rho u},\n",
    "\\\\]\n",
    "\n",
    "y esto conduce a una expresión para la relación entre el áera de un conducto y el área crítica en función de $\\text{Ma}$\n",
    "\n",
    "\\\\[\n",
    "\\boxed{\\frac{A}{A^{*}}=\\frac{1}{\\text{Ma}}\\left[\\frac{2+(\\gamma-1)\\text{Ma}^{2}}{\\gamma+1}\\right]^{\\frac{1}{2}\\frac{(\\gamma+1)}{(\\gamma-1)}}}\n",
    "\\\\]"
   ]
  },
  {
   "cell_type": "code",
   "execution_count": 3,
   "metadata": {},
   "outputs": [
    {
     "data": {
      "image/png": "[encoded data removed]",
      "text/plain": [
       "<Figure size 432x288 with 1 Axes>"
      ]
     },
     "metadata": {
      "needs_background": "light"
     },
     "output_type": "display_data"
    }
   ],
   "source": [
    "import numpy as np\n",
    "import matplotlib.pyplot as plt\n",
    "ma = np.linspace(0.2,3,num=200)\n",
    "sovers_star=1/ma*((2+(gamma-1)*ma**2)/(gamma+1))**(0.5*(gamma+1)/(gamma-1))\n",
    "plt.plot(ma,sovers_star);\n",
    "plt.ylim(0,3);\n",
    "plt.plot([0,1], [1,1], linestyle='--', color='black');\n",
    "plt.plot([1,1], [0,1], linestyle='--', color='black');"
   ]
  },
  {
   "cell_type": "markdown",
   "metadata": {},
   "source": [
    "Como se puede ver, la sección mínima de la tobera es la crítica cuando el flujo en ese punto tiene $\\text{Ma} = 1$"
   ]
  },
  {
   "cell_type": "markdown",
   "metadata": {},
   "source": [
    "### Concepto de bloqueo de flujo\n",
    "\n",
    "Cuando en la garganta (sección mínima) hay flujo crítico (véase que en la garganta el flujo puede ser subsónico o sónico, pero no supersónico) el valor de éste es\n",
    "\n",
    "\\begin{equation}\n",
    "\\dot{m}=\\rho^{*}u^{*}A^{*}= p_0\\sqrt{\\dfrac{\\gamma}{rT_0}}\\left( \\dfrac{2}{\\gamma+1}\\right)^{\\frac{1}{2}\\frac{\\gamma+1}{\\gamma-1}}A^*\n",
    "\\end{equation}\n",
    "\n",
    "Este valor es solo función de las condiciones totales. El ejemplo típico es el de flujo que parte de un depósito en condiciones de estancamiento y sale a través de una tobera. Si está bloqueado, el flujo másico no depende de la presión que encuentra en la salida, solo de $p_0$ y $T_0$."
   ]
  },
  {
   "cell_type": "markdown",
   "metadata": {},
   "source": [
    "### Funciones para python\n",
    "\n",
    "Todas estas comprejas expresiones, y otras, se puede usar el paquete [scikit-aero](https://github.com/AeroPython/scikit-aero). Para instalarlo hay que ejecutar \n",
    "\n",
    "`pip install scikit-aero`\n",
    "\n",
    "Por ejemplo:\n"
   ]
  },
  {
   "cell_type": "code",
   "execution_count": 4,
   "metadata": {},
   "outputs": [],
   "source": [
    "# Importamos el modulo que nos interesa\n",
    "from skaero.gasdynamics import isentropic"
   ]
  },
  {
   "cell_type": "code",
   "execution_count": 5,
   "metadata": {},
   "outputs": [],
   "source": [
    "# Generamos el flujo isentropico\n",
    "fl = isentropic.IsentropicFlow(gamma=gamma)"
   ]
  },
  {
   "cell_type": "markdown",
   "metadata": {},
   "source": [
    "Y podemos calcular, por ejemplo, la relacion de presiones $\\frac{p}{p_0}$ para $\\text{Ma} = 2$"
   ]
  },
  {
   "cell_type": "code",
   "execution_count": 6,
   "metadata": {},
   "outputs": [
    {
     "data": {
      "text/plain": [
       "0.12780452546295096"
      ]
     },
     "execution_count": 6,
     "metadata": {},
     "output_type": "execute_result"
    }
   ],
   "source": [
    "fl.p_p0(2)"
   ]
  },
  {
   "cell_type": "markdown",
   "metadata": {},
   "source": [
    "O la relación de áreas para este mismo $\\text{Ma}$"
   ]
  },
  {
   "cell_type": "code",
   "execution_count": 7,
   "metadata": {},
   "outputs": [
    {
     "data": {
      "text/plain": [
       "1.6875000000000002"
      ]
     },
     "execution_count": 7,
     "metadata": {},
     "output_type": "execute_result"
    }
   ],
   "source": [
    "fl.A_Astar(2)"
   ]
  },
  {
   "cell_type": "markdown",
   "metadata": {},
   "source": [
    "### Ejemplo\n",
    "**Flujo isentrópico en tobera convergente-divergente**\n",
    "\n",
    "Se considera una tobera por la que slae aire de un depósito. Las condiciones de remanso en el depósito son $p_0 = 1\\,\\text{MPa}$ y $T_0 = 800\\,\\text K$. La tobera tiene una garganta de sección $A_t = 20\\,\\text{cm}^2$ y en la sslida se tiene $\\text{Ma} = 2$. Se pide:\n",
    "1. Condiciones de flujo en la garganta\n",
    "2. Condiciones de flujo en la salida\n",
    "3. Flujo másico\n"
   ]
  },
  {
   "cell_type": "markdown",
   "metadata": {},
   "source": [
    "**Resolución**\n",
    "Las hipótesis que vamos a suar para resolver este problema son\n",
    "1. Gas ideal\n",
    "2. Flujo estacionario, unidimensional e isentrópico\n",
    "\n",
    "En primer lugar, introducimos los datos y calculamos la densidad de remanso del aire en el depósito"
   ]
  },
  {
   "cell_type": "code",
   "execution_count": 53,
   "metadata": {},
   "outputs": [
    {
     "name": "stdout",
     "output_type": "stream",
     "text": [
      "rho_0 = 4.36 kg/m³\n"
     ]
    }
   ],
   "source": [
    "Astar = 20e-4\n",
    "Ma_e = 2\n",
    "p0 = 1e6\n",
    "T0 = 800\n",
    "rho0 = p0/(r*T0)\n",
    "print('rho_0 = %.2f kg/m³' %rho0)"
   ]
  },
  {
   "cell_type": "markdown",
   "metadata": {},
   "source": [
    "El flujo en la salida es supersónico. Por lo tanto en la garganta es sónico y el flujo *está bloqueado*. Las condiciones sónicas son"
   ]
  },
  {
   "cell_type": "code",
   "execution_count": 54,
   "metadata": {},
   "outputs": [
    {
     "name": "stdout",
     "output_type": "stream",
     "text": [
      "p* = 528281.79 Pa\n",
      "T* = 666.67 K\n",
      "rho* = 2.76 kg/m³\n",
      "v* = 517.56 m/s\n"
     ]
    }
   ],
   "source": [
    "p_star = p0*fl.p_p0(1)\n",
    "T_star = T0*fl.T_T0(1)\n",
    "rho_star = p_star/(r*T_star)\n",
    "v_star = np.sqrt(gamma*r*T_star)\n",
    "print(\"p* = %.2f Pa\" %p_star)\n",
    "print(\"T* = %.2f K\" %T_star)\n",
    "print(\"rho* = %.2f kg/m³\" %rho_star)\n",
    "print(\"v* = %.2f m/s\" %v_star)"
   ]
  },
  {
   "cell_type": "markdown",
   "metadata": {},
   "source": [
    "Las condiciones en la salida se calculan a partir de la ecuación de Bernoulli, dado que el flujo es isentrópico"
   ]
  },
  {
   "cell_type": "code",
   "execution_count": 90,
   "metadata": {},
   "outputs": [
    {
     "name": "stdout",
     "output_type": "stream",
     "text": [
      "p_e = 127804.53 Pa\n",
      "T_e = 444.44 K\n",
      "rho_e = 1.00 kg/m³\n"
     ]
    }
   ],
   "source": [
    "T_e = T0*fl.T_T0(Ma_e)\n",
    "p_e = p0*fl.p_p0(Ma_e)\n",
    "rho_e = p_e/(r*T_e)\n",
    "print(\"p_e = %.2f Pa\" %p_e)\n",
    "print(\"T_e = %.2f K\" %T_e)\n",
    "print(\"rho_e = %.2f kg/m³\" %rho_e)"
   ]
  },
  {
   "cell_type": "markdown",
   "metadata": {},
   "source": [
    "La velocidad a la salida la calculamos a partir de $\\text{Ma}_e$ y la velocidad del sonido"
   ]
  },
  {
   "cell_type": "code",
   "execution_count": 56,
   "metadata": {},
   "outputs": [
    {
     "name": "stdout",
     "output_type": "stream",
     "text": [
      "v_e = 845.17 m/s\n"
     ]
    }
   ],
   "source": [
    "v_e = Ma_e*np.sqrt(gamma*r*T_e)\n",
    "print(\"v_e = %.2f m/s\" %v_e)"
   ]
  },
  {
   "cell_type": "markdown",
   "metadata": {},
   "source": [
    "El área de la sección de salida la calulamos a partir del área crítica"
   ]
  },
  {
   "cell_type": "code",
   "execution_count": 57,
   "metadata": {},
   "outputs": [
    {
     "name": "stdout",
     "output_type": "stream",
     "text": [
      "A_e = 3.38e-03 m² = 33.75 cm²\n"
     ]
    }
   ],
   "source": [
    "A_e = Astar*fl.A_Astar(2)\n",
    "print(\"A_e = %.2e m² = %.2f cm²\" %(A_e,A_e*1e4))"
   ]
  },
  {
   "cell_type": "markdown",
   "metadata": {},
   "source": [
    "Y el flujo másico lo podemos calcular a partir de las condiciones de salida"
   ]
  },
  {
   "cell_type": "code",
   "execution_count": 58,
   "metadata": {},
   "outputs": [
    {
     "name": "stdout",
     "output_type": "stream",
     "text": [
      "Flujo másico en salida: mdot_e = 2.86 kg/s\n"
     ]
    }
   ],
   "source": [
    "mdot_e = rho_e*v_e*A_e\n",
    "print(\"Flujo másico en salida: mdot_e = %.2f kg/s\" %mdot_e)"
   ]
  },
  {
   "cell_type": "markdown",
   "metadata": {},
   "source": [
    "O bien en la garganta"
   ]
  },
  {
   "cell_type": "code",
   "execution_count": 59,
   "metadata": {},
   "outputs": [
    {
     "name": "stdout",
     "output_type": "stream",
     "text": [
      "Flujo másico en gargata: mdot_star = 2.86 kg/s\n"
     ]
    }
   ],
   "source": [
    "mdot_star = rho_star*v_star*Astar\n",
    "print(\"Flujo másico en gargata: mdot_star = %.2f kg/s\" %mdot_star)"
   ]
  },
  {
   "cell_type": "markdown",
   "metadata": {},
   "source": [
    "que, evidentement, deben ser iguales.\n",
    "***"
   ]
  },
  {
   "cell_type": "markdown",
   "metadata": {},
   "source": [
    "## Ondas de choque normales\n",
    "\n",
    "Pero, ¿qué pasa si la presión en la salida no es la calculada? \n",
    "\n",
    "En las condiciones calculadas en el ejemplo, se dice que la tobera esta **adaptada** o bien que está en **condiciones de diseño**. \n",
    "\n",
    "Si la presión en la salida es menor que la calculada, el flujo sigue expandiéndose en el exterior para adaptarse a la presión. Se producen las conocidas como *ondas de expansión*. \n",
    "\n",
    "Si la presión és mayor, el flujo debe comprimirse para adaptarse a esta presión. Esta compresión se realiza a través de una **onda de choque**. Si la presión no es lo bastante grande, la onda de choque es oblicua. Sin embargo, si la presión de salida és lo bastante grande, se produce en el interior de la tobera una **onda de choque normal**.\n",
    "\n",
    "Esta figura se ha extraido del libro de [Kundu](https://discovery.upc.edu/iii/encore/record/C__Rb1412306?lang=cat)\n",
    "\n",
    "![tobera_kundu](tobera_kundu.png)"
   ]
  },
  {
   "cell_type": "markdown",
   "metadata": {},
   "source": [
    "En una onda de choque normal, la aplicación de la conservación de la masa, la cantidad de movimiento y la energía lleva al cálculo de la relación entre variación de densidad y variación de presión\n",
    "\n",
    "\\begin{equation}\n",
    "\\frac{\\rho_{2}}{\\rho_{1}}=\\frac{1+\\beta\\frac{p_{2}}{p_{1}}}{\\beta+\\frac{p_{2}}{p_{1}}}\\qquad\\text{con }\\beta=\\frac{\\gamma+1}{\\gamma-1}\n",
    "\\end{equation}"
   ]
  },
  {
   "cell_type": "markdown",
   "metadata": {},
   "source": [
    "De aqui se deduce que el flujo a través de una onda de choque normal no es isentópico ya que, en este caso la relación deberia ser, como sabemos, $\\frac{\\rho_{2}}{\\rho_{1}}=\\left(\\frac{p_{2}}{p_{1}}\\right)^{\\frac{1}{\\gamma}}$\n",
    "\n",
    "La variación de entropia a través de una onda de choque normal es, de hecho,\n",
    "\n",
    "\\begin{equation}\n",
    "\\frac{s_{2}-s_{1}}{c_{v}}=\\ln\\left[\\frac{p_{2}}{p_{1}}\\left(\\frac{\\rho_{1}}{\\rho_{2}}\\right)^{\\gamma}\\right]=\\ln\\left[\\frac{p_{2}}{p_{1}}\\left(\\frac{\\beta+\\frac{p_{2}}{p_{1}}}{1+\\beta\\frac{p_{2}}{p_{1}}}\\right)^{\\gamma}\\right]\n",
    "\\end{equation}"
   ]
  },
  {
   "cell_type": "code",
   "execution_count": 73,
   "metadata": {},
   "outputs": [
    {
     "data": {
      "image/png": "[encoded data removed]",
      "text/plain": [
       "<Figure size 432x288 with 1 Axes>"
      ]
     },
     "metadata": {
      "needs_background": "light"
     },
     "output_type": "display_data"
    }
   ],
   "source": [
    "beta = (gamma+1)/(gamma-1)\n",
    "p2_p1 = np.linspace(0.001,2,num=100)\n",
    "s2_s1 = np.log(p2_p1*((beta+p2_p1)/(1+beta*p2_p1))**gamma)\n",
    "plt.plot(p2_p1,s2_s1)\n",
    "plt.ylim(-0.02,0.02)\n",
    "plt.plot([0,2],[0,0],linestyle='--',color='black')\n",
    "plt.xlabel('p_2/p_1')\n",
    "plt.ylabel('(s_2-s_1)/c_v');"
   ]
  },
  {
   "cell_type": "markdown",
   "metadata": {},
   "source": [
    "En esta figura vemos que para que el aumento de la entropia sea positivo es necesario que $p_2 > p_1$."
   ]
  },
  {
   "cell_type": "markdown",
   "metadata": {},
   "source": [
    "$\\newcommand{\\ma}{\\text{Ma}}$\n",
    "A partir de la adimensionalización de la relación entre presión dinámica y presión estática\n",
    "\n",
    "$$\n",
    "\\frac{\\rho u^{2}}{p}=\\frac{u^{2}}{rT}=\\frac{\\gamma u^{2}}{\\gamma rT}=\\frac{\\gamma u^{2}}{c^{2}}=\\gamma\\ma^{2}\n",
    "$$\n",
    "\n",
    "se puede calcular el valor \n",
    "\n",
    "$$\n",
    "\\frac{p_{2}}{p_{1}}=\\frac{2\\gamma\\ma_{1}^{2}-(\\gamma-1)}{\\gamma+1}\n",
    "$$"
   ]
  },
  {
   "cell_type": "code",
   "execution_count": 79,
   "metadata": {},
   "outputs": [
    {
     "data": {
      "text/plain": [
       "Text(0, 0.5, 'p_2/p_1')"
      ]
     },
     "execution_count": 79,
     "metadata": {},
     "output_type": "execute_result"
    },
    {
     "data": {
      "image/png": "[encoded data removed]",
      "text/plain": [
       "<Figure size 432x288 with 1 Axes>"
      ]
     },
     "metadata": {
      "needs_background": "light"
     },
     "output_type": "display_data"
    }
   ],
   "source": [
    "Ma1 = np.linspace(0,2,num=100)\n",
    "p2_p1 = (2*gamma*Ma1**2-gamma+1)/(gamma+1)\n",
    "plt.plot(Ma1,p2_p1)\n",
    "plt.plot([0,1],[1,1],linestyle=\"--\",color=\"black\")\n",
    "plt.plot([1,1],[0,1],linestyle=\"--\",color=\"black\")\n",
    "plt.xlabel('Ma_1')\n",
    "plt.ylabel('p_2/p_1')"
   ]
  },
  {
   "cell_type": "markdown",
   "metadata": {},
   "source": [
    "Se observa que, para que $p_2$ sea mayor que $p_1$ es necesario que $\\ma_2$ sea mayor que 1. Es decir, el fujo de entrada en una onda de choque normal siempre es **supersónico**.\n",
    "\n",
    "Por otro lado, se puede calcular $\\ma$ en la salida de la onda de choque\n",
    "\n",
    "$$\n",
    "\\ma_{2}^{2}=\\frac{(\\gamma-1)\\ma_{1}^{2}+2}{2\\gamma\\ma_{1}^{2}-(\\gamma-1)}\n",
    "$$\n",
    "\n",
    "y se observa que para $\\ma_1 > 1$ el denominador simpre es mayor que el numeriador y, por lo tanto, $\\ma_2 <1$. Por lo tanto, en una de choque normal el flujo entrante es supersónico, y el saliente subsónico."
   ]
  },
  {
   "cell_type": "markdown",
   "metadata": {},
   "source": [
    "Otras relaciones importantes para una onda de choque normal son:\n",
    "\n",
    "\\begin{equation}\n",
    "\\frac{\\rho_{2}}{\\rho_{1}}=\\frac{u_{1}}{u_{2}}=\\frac{\\left(\\gamma+1\\right)\\ma_{1}^{2}}{\\left(\\gamma-1\\right)\\ma_{1}^{2}+2}\n",
    "\\\\\n",
    "\\frac{T_{2}}{T_{1}}=\\left(2+\\left(\\gamma-1\\right)\\ma_{1}^{2}\\right)\\frac{2\\gamma\\ma_{1}^{2}-\\left(\\gamma-1\\right)}{\\left(\\gamma+1\\right)^{2}\\ma_{1}^{2}}\n",
    "\\\\\n",
    "\\frac{p_{02}}{p_{01}}=\\frac{\\rho_{02}}{\\rho_{01}}=\\left(\\frac{\\left(\\gamma+1\\right)\\ma_{1}^{2}}{2+\\left(\\gamma-1\\right)\\ma_{1}^{2}}\\right)^{\\frac{\\gamma}{\\gamma-1}}\\left(\\frac{\\gamma+1}{2\\gamma\\ma_{1}^{2}-\\left(\\gamma-1\\right)}\\right)^{\\frac{1}{\\gamma-1}}\n",
    "\\end{equation}"
   ]
  },
  {
   "cell_type": "markdown",
   "metadata": {},
   "source": [
    "Todas estas funciones las podemos encontrar en el paquete de scikit-aero"
   ]
  },
  {
   "cell_type": "code",
   "execution_count": 80,
   "metadata": {},
   "outputs": [],
   "source": [
    "from skaero.gasdynamics import shocks"
   ]
  },
  {
   "cell_type": "code",
   "execution_count": 81,
   "metadata": {},
   "outputs": [
    {
     "data": {
      "text/plain": [
       "\u001b[0;31mType:\u001b[0m        module\n",
       "\u001b[0;31mString form:\u001b[0m <module 'skaero.gasdynamics.shocks' from '/home/robert/anaconda3/lib/python3.7/site-packages/skaero/gasdynamics/shocks.py'>\n",
       "\u001b[0;31mFile:\u001b[0m        ~/anaconda3/lib/python3.7/site-packages/skaero/gasdynamics/shocks.py\n",
       "\u001b[0;31mDocstring:\u001b[0m  \n",
       "Shock waves.\n",
       "\n",
       "Classes\n",
       "-------\n",
       "NormalShock(M_1, gamma)\n",
       "\n",
       "Examples\n",
       "--------\n",
       ">>> from skaero.gasdynamics import shocks\n",
       ">>> ns = shocks.NormalShock(1.4, 2.0)\n"
      ]
     },
     "metadata": {},
     "output_type": "display_data"
    }
   ],
   "source": [
    "?shocks"
   ]
  },
  {
   "cell_type": "code",
   "execution_count": 82,
   "metadata": {},
   "outputs": [],
   "source": [
    "# Por ejmplo, supongamos una onda de choque con un Mach de 1.6\n",
    "ns = shocks.NormalShock(gamma=gamma,M_1=1.6)"
   ]
  },
  {
   "cell_type": "code",
   "execution_count": 83,
   "metadata": {},
   "outputs": [
    {
     "data": {
      "text/plain": [
       "0.6684373647831919"
      ]
     },
     "execution_count": 83,
     "metadata": {},
     "output_type": "execute_result"
    }
   ],
   "source": [
    "# El Mach de salida seria\n",
    "ns.M_2"
   ]
  },
  {
   "cell_type": "code",
   "execution_count": 84,
   "metadata": {},
   "outputs": [
    {
     "data": {
      "text/plain": [
       "2.8200000000000003"
      ]
     },
     "execution_count": 84,
     "metadata": {},
     "output_type": "execute_result"
    }
   ],
   "source": [
    "#La relación de presiones es \n",
    "ns.p2_p1"
   ]
  },
  {
   "cell_type": "markdown",
   "metadata": {},
   "source": [
    "Pero la versión actual de scikit-aero no tiene nada más. El resto de funciones las podemos definir nosotros mismos"
   ]
  },
  {
   "cell_type": "markdown",
   "metadata": {},
   "source": [
    "### Ejemplo\n",
    "\n",
    "Supongamos que en la tobera del ejemplo anterior, que tenia una presión en la salida"
   ]
  },
  {
   "cell_type": "code",
   "execution_count": 89,
   "metadata": {},
   "outputs": [
    {
     "name": "stdout",
     "output_type": "stream",
     "text": [
      "p_e = 127804.53 Pa\n"
     ]
    }
   ],
   "source": [
    "print(\"p_e = %.2f Pa\" %p_e)"
   ]
  },
  {
   "cell_type": "markdown",
   "metadata": {},
   "source": [
    "esta presión es aumentada hasta "
   ]
  },
  {
   "cell_type": "code",
   "execution_count": 92,
   "metadata": {},
   "outputs": [
    {
     "name": "stdout",
     "output_type": "stream",
     "text": [
      "p_e = 600000.00 Pa\n"
     ]
    }
   ],
   "source": [
    "p_e = 600000\n",
    "print(\"p_e = %.2f Pa\" %p_e)"
   ]
  },
  {
   "cell_type": "markdown",
   "metadata": {},
   "source": [
    "Se pide\n",
    "1. Calcular la onda de choque: $\\ma_1$, $\\ma_2$ y área en la que se produce\n",
    "2. Calcular las condiciones del flujo en la salida"
   ]
  },
  {
   "cell_type": "markdown",
   "metadata": {},
   "source": [
    "Lo primero que hay que hacer es comprobar que hay una onda de choque. Si el flujo fuese isentrópico, con el área que tenemos en la salida, el número de mach subsónico en la salida sería"
   ]
  },
  {
   "cell_type": "code",
   "execution_count": 102,
   "metadata": {},
   "outputs": [
    {
     "name": "stdout",
     "output_type": "stream",
     "text": [
      "Número de Mach subsónico para salida para flujo isentrópico: 0.372\n"
     ]
    }
   ],
   "source": [
    "Ma_e_sub, Ma_e_super = \\\n",
    "    isentropic.mach_from_area_ratio(fl,A_ratio=A_e/Astar)\n",
    "print(\"Número de Mach subsónico para salida para flujo isentrópico: %.3f\" %Ma_e_sub)"
   ]
  },
  {
   "cell_type": "markdown",
   "metadata": {},
   "source": [
    "Y para esta condición, la presión en la salida deberia ser"
   ]
  },
  {
   "cell_type": "code",
   "execution_count": 104,
   "metadata": {},
   "outputs": [
    {
     "name": "stdout",
     "output_type": "stream",
     "text": [
      "p_e_sub = 908757.99 Pa\n"
     ]
    }
   ],
   "source": [
    "p_e_sub = p0*fl.p_p0(Ma_e_sub)\n",
    "print(\"p_e_sub = %.2f Pa\" %p_e_sub)"
   ]
  },
  {
   "cell_type": "markdown",
   "metadata": {},
   "source": [
    "que es mayor que los 6e5 Pa que tenemos. Asi que el flujo está bloqueado, y tenemos una onda de choque."
   ]
  },
  {
   "cell_type": "markdown",
   "metadata": {},
   "source": [
    "Tenemos que calcular primero la temperatura en la salida. De esta forma podremos calcular $\\ma_e$ dado qe la temperatura total se conserva (no así la presión total)\n",
    "\n",
    "Para calcular la temperatura del jet de salida usamos el flujo másico que, como está bloqueado es el mismo que teniamos antes (condiciones críticas) y, por lo tanto es conocido\n",
    "\n",
    "$$\n",
    "\\dot{m} = A_e \\rho_e v_e\n",
    "$$\n",
    "\n",
    "operando es posible ponerlo todo en términos de únicamente la temperatura y la presión\n",
    "\n",
    "$$\n",
    "\\dot{m} = A_e p_e \\sqrt{\\frac{2}{\\gamma-1}}\n",
    "\\sqrt{\\frac{\\gamma}{rT_e}\\left(\\frac{T_0}{T_e}-1\\right)}\n",
    "$$"
   ]
  },
  {
   "cell_type": "markdown",
   "metadata": {},
   "source": [
    "Si invertimos esta expresión encontramos una ecuación de segundo grado para $\\frac{1}{T_e}$. Resolviéndola y conservando sólo la solución positiva, se encuentra\n",
    "\n",
    "$$\n",
    "T_e = \\frac{2T_0}{1+\\sqrt{1+\\frac{2rT_0(\\gamma-1)}{\\gamma}\\left(\\frac{\\dot{m}}{A_e p_e}\\right)^2}}\n",
    "$$"
   ]
  },
  {
   "cell_type": "code",
   "execution_count": 113,
   "metadata": {},
   "outputs": [],
   "source": [
    "# Esta expresión anterior la podemos poner en una función\n",
    "def T_e(mdot,A_e,p_e):\n",
    "    root = 1 + (2*r*T0*(gamma-1))/gamma*(mdot/(A_e*p_e))**2\n",
    "    return 2*T0/(1+np.sqrt(root))"
   ]
  },
  {
   "cell_type": "code",
   "execution_count": 115,
   "metadata": {},
   "outputs": [
    {
     "name": "stdout",
     "output_type": "stream",
     "text": [
      "T_e = 753.62 K\n"
     ]
    }
   ],
   "source": [
    "T_e=T_e(mdot_e,A_e,p_e)\n",
    "print('T_e = %.2f K' %T_e)"
   ]
  },
  {
   "cell_type": "markdown",
   "metadata": {},
   "source": [
    "Con esta temperatura y la total, podemos calcular el mach en la salida, invirtiendo la ecuación de Bernoulli"
   ]
  },
  {
   "cell_type": "code",
   "execution_count": 117,
   "metadata": {},
   "outputs": [],
   "source": [
    "from scipy.optimize import fsolve"
   ]
  },
  {
   "cell_type": "code",
   "execution_count": 150,
   "metadata": {},
   "outputs": [],
   "source": [
    "#definimos la función que queremos resolver\n",
    "def f(Ma):\n",
    "    return T0*fl.T_T0(Ma)-T_e"
   ]
  },
  {
   "cell_type": "code",
   "execution_count": 151,
   "metadata": {},
   "outputs": [
    {
     "name": "stdout",
     "output_type": "stream",
     "text": [
      "Ma_e = 0.555 \n"
     ]
    }
   ],
   "source": [
    "# y calculamos el número de Mach para esta temperatura\n",
    "Ma_e = fsolve(f,0.2)[0] # El 0.2 es un valor inicial para resolver iterativamente\n",
    "                        # devuelve un array y nos quedamos con el primer\n",
    "                        # elemento\n",
    "print('Ma_e = %.3f '%Ma_e)"
   ]
  },
  {
   "cell_type": "markdown",
   "metadata": {},
   "source": [
    "Y con este $\\ma_e$ ya podemos calcular la presión total"
   ]
  },
  {
   "cell_type": "code",
   "execution_count": 152,
   "metadata": {},
   "outputs": [
    {
     "name": "stdout",
     "output_type": "stream",
     "text": [
      "p0_2 = 739502.70 Pa\n"
     ]
    }
   ],
   "source": [
    "p0_2 = p_e/fl.p_p0(Ma_e)\n",
    "print('p0_2 = %.2f Pa'%p0_2)"
   ]
  },
  {
   "cell_type": "markdown",
   "metadata": {},
   "source": [
    "Y tenemos una función que nos permite calcular la relación de presiones total en función del $\\ma_1$ en la entrada de la onda de choque "
   ]
  },
  {
   "cell_type": "code",
   "execution_count": 153,
   "metadata": {},
   "outputs": [],
   "source": [
    "def p02_p01(Ma1):\n",
    "    term1 = ((gamma+1)*Ma1**2/(2+(gamma-1)*Ma1**2))**(gamma/(gamma-1))\n",
    "    term2 = ((gamma+1)/(2*gamma*Ma1**2-gamma+1))**(1/(gamma-1))\n",
    "    return term1*term2"
   ]
  },
  {
   "cell_type": "code",
   "execution_count": 154,
   "metadata": {},
   "outputs": [],
   "source": [
    "#De nuevo, definimos la ecuación que queremos resolver\n",
    "def f(Ma1):\n",
    "    return p0*p02_p01(Ma1)-p0_2"
   ]
  },
  {
   "cell_type": "code",
   "execution_count": 156,
   "metadata": {},
   "outputs": [
    {
     "name": "stdout",
     "output_type": "stream",
     "text": [
      "El numero de Mach en la entrada de la onda de choque es\n",
      "Ma_1 = 1.960\n"
     ]
    }
   ],
   "source": [
    "Ma1 = fsolve(f,1)[0]\n",
    "print('El numero de Mach en la entrada de la onda de choque es')\n",
    "print('Ma_1 = %.3f' %Ma1)"
   ]
  },
  {
   "cell_type": "markdown",
   "metadata": {},
   "source": [
    "El numero de Mach a la salida de lo onda de choque si lo podemos obtener de scikit-aero"
   ]
  },
  {
   "cell_type": "code",
   "execution_count": 161,
   "metadata": {},
   "outputs": [
    {
     "name": "stdout",
     "output_type": "stream",
     "text": [
      "El numero de Mach en la salida de la onda de choque es\n",
      "Ma_2 = 0.584\n"
     ]
    }
   ],
   "source": [
    "ns = shocks.NormalShock(Ma1)\n",
    "Ma2 = ns.M_2\n",
    "print('El numero de Mach en la salida de la onda de choque es')\n",
    "print('Ma_2 = %.3f' %Ma2)"
   ]
  },
  {
   "cell_type": "markdown",
   "metadata": {},
   "source": [
    "y el área donde se produce la onda de choque es"
   ]
  },
  {
   "cell_type": "code",
   "execution_count": 163,
   "metadata": {},
   "outputs": [
    {
     "name": "stdout",
     "output_type": "stream",
     "text": [
      "La onda de choque se produce en el conduto donde el área de la     sección es\n",
      "A_c = 3.27e-03 m² = 32.65 cm²\n"
     ]
    }
   ],
   "source": [
    "A_c = Astar*fl.A_Astar(Ma1)\n",
    "print(\"La onda de choque se produce en el conduto donde el área de la \\\n",
    "    sección es\")\n",
    "print(\"A_c = %.2e m² = %.2f cm²\" %(A_c,A_c*1e4))"
   ]
  },
  {
   "cell_type": "code",
   "execution_count": null,
   "metadata": {},
   "outputs": [],
   "source": []
  }
 ],
 "metadata": {
  "kernelspec": {
   "display_name": "Python 3",
   "language": "python",
   "name": "python3"
  },
  "language_info": {
   "codemirror_mode": {
    "name": "ipython",
    "version": 3
   },
   "file_extension": ".py",
   "mimetype": "text/x-python",
   "name": "python",
   "nbconvert_exporter": "python",
   "pygments_lexer": "ipython3",
   "version": "3.7.3"
  }
 },
 "nbformat": 4,
 "nbformat_minor": 4
}
