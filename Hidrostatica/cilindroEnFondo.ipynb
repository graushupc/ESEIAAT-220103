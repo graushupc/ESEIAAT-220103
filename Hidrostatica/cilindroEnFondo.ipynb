{
 "cells": [
  {
   "cell_type": "markdown",
   "metadata": {},
   "source": [
    "# Cálculo de empuje sobre un cilindro apoyado en el fondo\n",
    "\n",
    "![](Fig1.png)\n"
   ]
  },
  {
   "cell_type": "markdown",
   "metadata": {},
   "source": [
    "## Método 1: Integración de presiones"
   ]
  },
  {
   "cell_type": "code",
   "execution_count": 1,
   "metadata": {},
   "outputs": [],
   "source": [
    "import sympy as sp\n",
    "import numpy as np"
   ]
  },
  {
   "cell_type": "code",
   "execution_count": 2,
   "metadata": {},
   "outputs": [],
   "source": [
    "p,dF,F,p0,rho,g,L,h,R,theta,phi = sp.symbols('p,dF,F,p0,rho,g,L,h,R,theta,phi')"
   ]
  },
  {
   "cell_type": "markdown",
   "metadata": {},
   "source": [
    "Para un cierto ángulo $\\phi$, el $dS$ se encuentra a una profundidad\n",
    "$$\n",
    "h_\\phi = h - R\\left[\\cos\\left(\\frac{\\theta}{2}\\right)-\\cos \\phi \\right]\n",
    "$$\n",
    "y la componente vertical de la fuerza es \n",
    "$$ \n",
    "\\text{d}\\mathbf{F}_y = (p_0 + \\rho g h_\\phi) \\cos(\\phi) L R \\text{d}\\phi\n",
    "$$\n",
    "![](Fig2.png)"
   ]
  },
  {
   "cell_type": "code",
   "execution_count": 3,
   "metadata": {},
   "outputs": [
    {
     "data": {
      "text/latex": [
       "$\\displaystyle g \\rho \\left(R \\left(\\cos{\\left(\\phi \\right)} - \\cos{\\left(\\frac{\\theta}{2} \\right)}\\right) + h\\right) + p_{0}$"
      ],
      "text/plain": [
       "g*rho*(R*(cos(phi) - cos(theta/2)) + h) + p0"
      ]
     },
     "execution_count": 3,
     "metadata": {},
     "output_type": "execute_result"
    }
   ],
   "source": [
    "p=p0+rho*g*(h-R*(-sp.cos(phi)+sp.cos(theta/2)));p.simplify()"
   ]
  },
  {
   "cell_type": "markdown",
   "metadata": {},
   "source": [
    "Y ahora solo debemos integrar la componente vertical aprovechando la simetria \n",
    "$$\n",
    "F_y = 2 \\int_{\\frac{\\theta}{2}}^{\\pi} p \\cos(\\phi) L R \\text{d}\\phi\n",
    "$$"
   ]
  },
  {
   "cell_type": "code",
   "execution_count": 4,
   "metadata": {},
   "outputs": [
    {
     "data": {
      "text/latex": [
       "$\\displaystyle \\frac{L R \\left(- R g \\rho \\theta + R g \\rho \\sin{\\left(\\theta \\right)} + 2 \\pi R g \\rho - 4 g h \\rho \\sin{\\left(\\frac{\\theta}{2} \\right)} - 4 p_{0} \\sin{\\left(\\frac{\\theta}{2} \\right)}\\right)}{2}$"
      ],
      "text/plain": [
       "L*R*(-R*g*rho*theta + R*g*rho*sin(theta) + 2*pi*R*g*rho - 4*g*h*rho*sin(theta/2) - 4*p0*sin(theta/2))/2"
      ]
     },
     "execution_count": 4,
     "metadata": {},
     "output_type": "execute_result"
    }
   ],
   "source": [
    "F=2*sp.integrate(L*R*p*sp.cos(phi),(phi,theta/2,sp.pi))\n",
    "F.simplify()"
   ]
  },
  {
   "cell_type": "markdown",
   "metadata": {},
   "source": [
    "## Método 2: Arquímedes\n",
    "\n",
    "El empuje es el peso de agua del volumen sumergido. Pero hay que tener cuidado. La parte inferior del cilindro no está \"sumergida\", dado que no está mojada. Por lo tanto solo hay que tener en cuanta el volumen de la extrusion, no de un círculo, sino de un círculo menos el segmento definido por el ángulo $\\theta$\n",
    "\n",
    "![](Fig3.png)\n",
    "\n",
    "El área del circulo \"sumergido\" es por tanto,\n",
    "$$\n",
    "A_s = \\frac{1}{2} R^2(2\\pi -\\theta)  + R^2 \\sin\\left(\\frac{\\theta}{2}\\right)\\cos\\left(\\frac{\\theta}{2}\\right) = R^2\\left[\\pi -\\frac{\\theta}{2} + \\sin\\left(\\frac{\\theta}{2}\\right)\\cos\\left(\\frac{\\theta}{2}\\right)\\right]\n",
    "$$\n",
    "\n",
    "La fuerza de empuje si estuviese todo el contorno mojado (no hubiese contacto con fondo) seria\n",
    "$$\n",
    "E_0 = \\rho g L A_s\n",
    "$$\n",
    "pero como el fondo (área $A_h$ en la figura) que tendría una presión uniforme $p_h = \\rho g h$ no está, la tenemos que restar\n",
    "$$\n",
    "E = E_0 - p_h A_h = E_0 - \\rho g h 2 R L \\sin\\left(\\frac{\\theta}{2}\\right)\n",
    "$$"
   ]
  },
  {
   "cell_type": "code",
   "execution_count": 5,
   "metadata": {},
   "outputs": [],
   "source": [
    "As,E,E0=sp.symbols('As,E,E0')"
   ]
  },
  {
   "cell_type": "code",
   "execution_count": 6,
   "metadata": {},
   "outputs": [
    {
     "data": {
      "text/latex": [
       "$\\displaystyle R^{2} \\left(\\pi - \\frac{\\theta}{2}\\right) + R^{2} \\sin{\\left(\\frac{\\theta}{2} \\right)} \\cos{\\left(\\frac{\\theta}{2} \\right)}$"
      ],
      "text/plain": [
       "R**2*(pi - theta/2) + R**2*sin(theta/2)*cos(theta/2)"
      ]
     },
     "execution_count": 6,
     "metadata": {},
     "output_type": "execute_result"
    }
   ],
   "source": [
    "As = R**2*(sp.pi-theta/2) + R**2*sp.sin(theta/2)*sp.cos(theta/2); As"
   ]
  },
  {
   "cell_type": "code",
   "execution_count": 7,
   "metadata": {},
   "outputs": [
    {
     "data": {
      "text/latex": [
       "$\\displaystyle L g \\rho \\left(R^{2} \\left(\\pi - \\frac{\\theta}{2}\\right) + R^{2} \\sin{\\left(\\frac{\\theta}{2} \\right)} \\cos{\\left(\\frac{\\theta}{2} \\right)}\\right)$"
      ],
      "text/plain": [
       "L*g*rho*(R**2*(pi - theta/2) + R**2*sin(theta/2)*cos(theta/2))"
      ]
     },
     "execution_count": 7,
     "metadata": {},
     "output_type": "execute_result"
    }
   ],
   "source": [
    "E0 = rho*g*L*As;E0"
   ]
  },
  {
   "cell_type": "code",
   "execution_count": 8,
   "metadata": {},
   "outputs": [],
   "source": [
    "ph,Sh = sp.symbols('ph,Sh')"
   ]
  },
  {
   "cell_type": "code",
   "execution_count": 9,
   "metadata": {},
   "outputs": [],
   "source": [
    "ph = p0 + rho*g*h"
   ]
  },
  {
   "cell_type": "code",
   "execution_count": 10,
   "metadata": {},
   "outputs": [],
   "source": [
    "Sh = 2*R*L*sp.sin(theta/2)"
   ]
  },
  {
   "cell_type": "code",
   "execution_count": 11,
   "metadata": {},
   "outputs": [
    {
     "data": {
      "text/latex": [
       "$\\displaystyle - 2 L R \\left(g h \\rho + p_{0}\\right) \\sin{\\left(\\frac{\\theta}{2} \\right)} + L g \\rho \\left(R^{2} \\left(\\pi - \\frac{\\theta}{2}\\right) + R^{2} \\sin{\\left(\\frac{\\theta}{2} \\right)} \\cos{\\left(\\frac{\\theta}{2} \\right)}\\right)$"
      ],
      "text/plain": [
       "-2*L*R*(g*h*rho + p0)*sin(theta/2) + L*g*rho*(R**2*(pi - theta/2) + R**2*sin(theta/2)*cos(theta/2))"
      ]
     },
     "execution_count": 11,
     "metadata": {},
     "output_type": "execute_result"
    }
   ],
   "source": [
    "E = E0 - ph*Sh;E"
   ]
  },
  {
   "cell_type": "markdown",
   "metadata": {},
   "source": [
    "Podemos ver que, aunque a simple vista no lo parezca, las expresiones para $F$, calculada con la integral de la distribución de presiones, y la de $E$, calcualda a partir del teorema de Arquímedes, son iguales"
   ]
  },
  {
   "cell_type": "code",
   "execution_count": 12,
   "metadata": {},
   "outputs": [
    {
     "data": {
      "text/latex": [
       "$\\displaystyle 0$"
      ],
      "text/plain": [
       "0"
      ]
     },
     "execution_count": 12,
     "metadata": {},
     "output_type": "execute_result"
    }
   ],
   "source": [
    "sp.simplify(E - F)"
   ]
  },
  {
   "cell_type": "markdown",
   "metadata": {},
   "source": [
    "Calculamos los valores numéricos con lso datos proporcionados en el enunciado:"
   ]
  },
  {
   "cell_type": "code",
   "execution_count": 13,
   "metadata": {},
   "outputs": [],
   "source": [
    "Fvalue = sp.lambdify((p0,h,L,R,g,rho,theta),F)"
   ]
  },
  {
   "cell_type": "code",
   "execution_count": 14,
   "metadata": {},
   "outputs": [
    {
     "data": {
      "text/plain": [
       "-1593.3651133798803"
      ]
     },
     "execution_count": 14,
     "metadata": {},
     "output_type": "execute_result"
    }
   ],
   "source": [
    "Fvalue(1e5,3.5,1,0.5,9.81,1000,np.deg2rad(20))/9.81"
   ]
  },
  {
   "cell_type": "code",
   "execution_count": 15,
   "metadata": {},
   "outputs": [],
   "source": [
    "Evalue = sp.lambdify((p0,h,L,R,g,rho,theta),E)"
   ]
  },
  {
   "cell_type": "code",
   "execution_count": 16,
   "metadata": {},
   "outputs": [
    {
     "data": {
      "text/plain": [
       "-1593.3651133798803"
      ]
     },
     "execution_count": 16,
     "metadata": {},
     "output_type": "execute_result"
    }
   ],
   "source": [
    "Evalue(1e5,3.5,1,0.5,9.81,1000,np.deg2rad(20))/9.81"
   ]
  },
  {
   "cell_type": "markdown",
   "metadata": {},
   "source": [
    "Observamos que el resultado no es el esperado. Según el enuncado, debería ser 91 kg y hacia arriba, y obtenemos casi 1600 hacia abajo.\n",
    "\n",
    "Dibujamos el valor del empuje en función de $\\theta$, el ángulo de contacto"
   ]
  },
  {
   "cell_type": "code",
   "execution_count": 17,
   "metadata": {},
   "outputs": [],
   "source": [
    "def F_theta(theta):\n",
    "    return Fvalue(1e5,3.5,1,0.5,9.81,1000,np.deg2rad(theta))/9.81"
   ]
  },
  {
   "cell_type": "code",
   "execution_count": 18,
   "metadata": {},
   "outputs": [],
   "source": [
    "import matplotlib.pyplot as plt\n",
    "theta = np.linspace(0,20,101)"
   ]
  },
  {
   "cell_type": "code",
   "execution_count": 19,
   "metadata": {},
   "outputs": [
    {
     "data": {
      "image/png": "[encoded data removed]",
      "text/plain": [
       "<Figure size 432x288 with 1 Axes>"
      ]
     },
     "metadata": {
      "needs_background": "light"
     },
     "output_type": "display_data"
    }
   ],
   "source": [
    "plt.plot(theta,F_theta(theta),'-');"
   ]
  },
  {
   "cell_type": "markdown",
   "metadata": {},
   "source": [
    "Y observamos que para valores suficientemente pequeños de $\\theta$ el valor del empuje es positivo (hacia arriba).\n",
    "\n",
    "Calculamos para qué $\\theta$ el empuje sería nulo"
   ]
  },
  {
   "cell_type": "code",
   "execution_count": 20,
   "metadata": {},
   "outputs": [],
   "source": [
    "from scipy.optimize import fsolve"
   ]
  },
  {
   "cell_type": "code",
   "execution_count": 21,
   "metadata": {},
   "outputs": [
    {
     "data": {
      "text/plain": [
       "array([6.57571996])"
      ]
     },
     "execution_count": 21,
     "metadata": {},
     "output_type": "execute_result"
    }
   ],
   "source": [
    "fsolve(F_theta,0)"
   ]
  },
  {
   "cell_type": "markdown",
   "metadata": {},
   "source": [
    "Y para cuál el valor del empuje seria equivalente a 91 kg."
   ]
  },
  {
   "cell_type": "code",
   "execution_count": 22,
   "metadata": {},
   "outputs": [],
   "source": [
    "def F_theta_91(theta):\n",
    "    return Fvalue(1e5,3.5,1,0.5,9.81,1000,np.deg2rad(theta))/9.81 - 91"
   ]
  },
  {
   "cell_type": "code",
   "execution_count": 23,
   "metadata": {},
   "outputs": [
    {
     "data": {
      "text/plain": [
       "array([5.81317917])"
      ]
     },
     "execution_count": 23,
     "metadata": {},
     "output_type": "execute_result"
    }
   ],
   "source": [
    "fsolve(F_theta_91,0)"
   ]
  },
  {
   "cell_type": "code",
   "execution_count": null,
   "metadata": {},
   "outputs": [],
   "source": []
  }
 ],
 "metadata": {
  "kernelspec": {
   "display_name": "Python 3",
   "language": "python",
   "name": "python3"
  },
  "language_info": {
   "codemirror_mode": {
    "name": "ipython",
    "version": 3
   },
   "file_extension": ".py",
   "mimetype": "text/x-python",
   "name": "python",
   "nbconvert_exporter": "python",
   "pygments_lexer": "ipython3",
   "version": "3.7.6"
  }
 },
 "nbformat": 4,
 "nbformat_minor": 4
}
