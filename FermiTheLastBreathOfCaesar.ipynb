{
 "cells": [
  {
   "cell_type": "markdown",
   "metadata": {
    "colab_type": "text",
    "id": "HyDZogLuoxab"
   },
   "source": [
    "### Ejemplo de Fermi: \"The Last Breath of Caesar\"\n",
    "_G. Raush_\n",
    "\n",
    "_Setiembre 2019, **MF-UPC**_"
   ]
  },
  {
   "cell_type": "markdown",
   "metadata": {
    "colab_type": "text",
    "id": "A_ILc7dEoxae"
   },
   "source": [
    "Está es la pregunta. ¿Cuál es la probabilidad de que en una respiración profunda, que acabamos de hacer, contenga al menos una de las mismas moléculas que César exhaló en su última respiración como agonizante de su magnicidio? \n",
    "\n",
    "Supongamos que ahora, a más de 2000 años después, esas moléculas de aire que César exhaló se mezclan uniformemente en toda la atmósfera de la Tierra, y que la gran mayoría de esas moléculas todavía están flotando y disponibles para que que la podamos respirar.\n",
    "Dentro de las hipótesis de trabajo asumimos que no han habido absorciones por parte de la masa de agua ni por el sistema de flora presente en la Tierra. Esto lo podemos asumir, sin cometer mayor error, dado que la mayor parte del aire que respiramos es nitrógeno inerte y oxígeno que entra y sale continuamente de la atmósfera. Como vemos, es una suposición razonable. \n",
    "\n",
    "Consideremos que nosotros y el César respiran aproximadamente 1/30 de un mol de moléculas de aire con cada respiro.\n"
   ]
  },
  {
   "cell_type": "code",
   "execution_count": null,
   "metadata": {
    "colab": {},
    "colab_type": "code",
    "id": "wG0NEUgDoxaf"
   },
   "outputs": [],
   "source": [
    "from math import pi"
   ]
  },
  {
   "cell_type": "markdown",
   "metadata": {
    "colab_type": "text",
    "id": "Bsuf2ujLoxal"
   },
   "source": [
    "\n",
    "Definición de funciones de trabajo: Volumen de la esfera  y función de error"
   ]
  },
  {
   "cell_type": "code",
   "execution_count": null,
   "metadata": {
    "colab": {},
    "colab_type": "code",
    "id": "fQ-SS8Vaoxan"
   },
   "outputs": [],
   "source": [
    "VolSphere = lambda x : 4./3.*pi*x**3\n",
    "error = lambda x,y : (y-x)/x"
   ]
  },
  {
   "cell_type": "markdown",
   "metadata": {
    "colab_type": "text",
    "id": "dTLe6sWuoxav"
   },
   "source": [
    "#### Hipótesis de trabajo \n",
    "- atmósfera de densidad uniforme\n",
    "- sistema isotérmico\n",
    "- tierra de  esfericidad perfecta\n",
    "- modelo de \"tierra plana\"\n",
    "- composición química de la atmósfera: monocomponente dominante, nitrógeno $N_2$"
   ]
  },
  {
   "cell_type": "markdown",
   "metadata": {
    "colab_type": "text",
    "id": "fc97yFyzoxaw"
   },
   "source": [
    "Parámetros de trabajo: radio de la tierra y hipótesis de espesor constante. "
   ]
  },
  {
   "cell_type": "code",
   "execution_count": null,
   "metadata": {
    "colab": {},
    "colab_type": "code",
    "id": "UEFaV0fSoxay"
   },
   "outputs": [],
   "source": [
    "REarth = 6400.e3\n",
    "hAtmos = 50.e3"
   ]
  },
  {
   "cell_type": "code",
   "execution_count": null,
   "metadata": {
    "colab": {},
    "colab_type": "code",
    "id": "g4nTbKKnoxa2",
    "outputId": "4662ad43-b790-4344-dfd1-f3040e450a88"
   },
   "outputs": [
    {
     "name": "stdout",
     "output_type": "stream",
     "text": [
      "Vol: 2.57e+19 m3\n"
     ]
    }
   ],
   "source": [
    "VolAtmosTPlana = (4*pi*REarth**2) * hAtmos\n",
    "print('Vol: %4.3g m3' % VolAtmosTPlana)"
   ]
  },
  {
   "cell_type": "markdown",
   "metadata": {
    "colab_type": "text",
    "id": "QZdst5Kdoxa-"
   },
   "source": [
    "Error porcentual cometido con el modelo de la Tierra Plana"
   ]
  },
  {
   "cell_type": "code",
   "execution_count": null,
   "metadata": {
    "colab": {},
    "colab_type": "code",
    "id": "vdOUBe6ToxbA",
    "outputId": "04000755-f1b6-4b94-a1e2-cc97b9304a77"
   },
   "outputs": [
    {
     "name": "stdout",
     "output_type": "stream",
     "text": [
      "Err: 0.78  \n"
     ]
    }
   ],
   "source": [
    "VolReal = VolSphere(REarth + hAtmos) - VolSphere(REarth)\n",
    "print('Err: %2.2f  '% (error( VolAtmosTPlana, VolReal)*1e2))"
   ]
  },
  {
   "cell_type": "code",
   "execution_count": null,
   "metadata": {
    "colab": {},
    "colab_type": "code",
    "id": "YVqJcU7MoxbF",
    "outputId": "6d4e3c2d-38e8-4abe-b48e-fbbbc6272382"
   },
   "outputs": [
    {
     "name": "stdout",
     "output_type": "stream",
     "text": [
      "Vc: 3.86e-26 m3\n"
     ]
    }
   ],
   "source": [
    "VolBreath = 1e-3\n",
    "Vc = VolBreath * (VolBreath/VolReal)\n",
    "print('Vc: %4.3g m3' % Vc)"
   ]
  },
  {
   "cell_type": "markdown",
   "metadata": {
    "colab_type": "text",
    "id": "CnaBMAqPoxbK"
   },
   "source": [
    "Volumen ocupado por un molécula del componente atmosférico, hipótesis de monocomponente. El átomo concentra su masa en el núcleo con número atómico de 14 para el caso de $N_2$. 7 protones y 7 neutrones, se desprecia la masa de los electrones. "
   ]
  },
  {
   "cell_type": "code",
   "execution_count": null,
   "metadata": {
    "colab": {},
    "colab_type": "code",
    "id": "I2nhP2F8oxbM",
    "outputId": "a1d0aeb2-b795-4d32-fe15-fbeeed0542ff"
   },
   "outputs": [
    {
     "name": "stdout",
     "output_type": "stream",
     "text": [
      "mN2: 4.76e-26 kg\n"
     ]
    }
   ],
   "source": [
    "mN2 = 2*(7 + 7)*1.7e-27\n",
    "print('mN2: %4.3g kg' % mN2)"
   ]
  },
  {
   "cell_type": "markdown",
   "metadata": {
    "colab_type": "text",
    "id": "vSUwyT5GoxbQ"
   },
   "source": [
    "Comparación entre la relaciones de masa del volumen expirado y la masa de la molécula"
   ]
  },
  {
   "cell_type": "code",
   "execution_count": null,
   "metadata": {
    "colab": {},
    "colab_type": "code",
    "id": "B9z0tPv7oxbS",
    "outputId": "cc6e28bc-c2df-4dbe-ac46-58510e2107ec"
   },
   "outputs": [
    {
     "data": {
      "text/plain": [
       "0.971954576913009"
      ]
     },
     "execution_count": 11,
     "metadata": {
      "tags": []
     },
     "output_type": "execute_result"
    }
   ],
   "source": [
    "rhoAir = 1.2\n",
    "Vc*rhoAir/mN2"
   ]
  },
  {
   "cell_type": "markdown",
   "metadata": {
    "colab_type": "text",
    "id": "MKqM_GCCoxbY"
   },
   "source": [
    "**Conclusión**: Estamos inspirando una molécula de las expiradas por Cesar."
   ]
  },
  {
   "cell_type": "markdown",
   "metadata": {
    "colab_type": "text",
    "id": "Lk8fHsBHoxba"
   },
   "source": [
    "### Referencias\n",
    "- [The last breath of Caesar](http://www.hk-phy.org/articles/caesar/caesar_e.html)"
   ]
  },
  {
   "cell_type": "code",
   "execution_count": null,
   "metadata": {
    "colab": {},
    "colab_type": "code",
    "id": "MMd520-Qoxbb"
   },
   "outputs": [],
   "source": []
  }
 ],
 "metadata": {
  "colab": {
   "name": "FermiTheLastBreathOfCaesar.ipynb",
   "provenance": []
  },
  "kernelspec": {
   "display_name": "Python 3",
   "language": "python",
   "name": "python3"
  },
  "language_info": {
   "codemirror_mode": {
    "name": "ipython",
    "version": 3
   },
   "file_extension": ".py",
   "mimetype": "text/x-python",
   "name": "python",
   "nbconvert_exporter": "python",
   "pygments_lexer": "ipython3",
   "version": "3.7.3"
  }
 },
 "nbformat": 4,
 "nbformat_minor": 4
}
