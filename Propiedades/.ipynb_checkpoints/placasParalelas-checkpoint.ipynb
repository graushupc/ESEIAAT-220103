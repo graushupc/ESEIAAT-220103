{
 "cells": [
  {
   "cell_type": "markdown",
   "id": "a58fb8e6-795f-4a24-9a30-28d4b7e39add",
   "metadata": {},
   "source": [
    "### Ejemplo Viscosidad (Problema 1)\n",
    "\n",
    "_G. Raush_\n",
    "\n",
    "2022"
   ]
  },
  {
   "cell_type": "markdown",
   "id": "387630fe-4329-40fd-8655-77a0a052c89c",
   "metadata": {},
   "source": [
    "Calcular el esfuerzo creado sobre la placa para el caso de las condiciones de la geomtria del problema de dos placas, una movil con velocidad $V$ y otra fija según el observador de referencia. La distancia entre placas es $h$. Asumir un gradiente de velocidad constante. "
   ]
  },
  {
   "cell_type": "markdown",
   "id": "f201e025-e6ab-45ea-9804-3f5c7ba7d828",
   "metadata": {},
   "source": [
    "![placasParalelas.png](placasParalelas.png)"
   ]
  },
  {
   "cell_type": "markdown",
   "id": "45286d0e-16cc-4ec1-a2c8-f4c04e261227",
   "metadata": {},
   "source": [
    "Según ley de la viscodidad Newton; \n",
    "$$\\frac{du}{dy} =\\frac{\\tau}{\\mu}=cte\\tag{1}$$"
   ]
  },
  {
   "cell_type": "markdown",
   "id": "869590db-3fce-4b41-8832-0dfabc4b4376",
   "metadata": {},
   "source": [
    "solución de esta ODE\n",
    "$$u=a+b y$$"
   ]
  },
  {
   "cell_type": "markdown",
   "id": "16dd469c-7b49-4c95-b766-c1ba8360c2cd",
   "metadata": {},
   "source": [
    "Por la condicion de no-deslizamiento en paredes , los limites de velocidades son:\n",
    "\n",
    "\\begin{equation}\n",
    "u =\\left\\{\\begin{aligned}\n",
    "0 = a + b (0),\\quad\n",
    "\\text{if}\\;y = 0\\\\\n",
    "V = a + b (h),\\quad\n",
    "\\text{if}\\; y=h \n",
    "\\end{aligned}\\right\\}\n",
    "\\end{equation}"
   ]
  },
  {
   "cell_type": "markdown",
   "id": "90a84ce8-e21d-48fe-9bc7-ef00f7d1b2e4",
   "metadata": {},
   "source": [
    "Por lo tanto\n",
    "$$a=0$$\n",
    "$$u=\\frac{V}{h}y \\tag{2}$$"
   ]
  },
  {
   "cell_type": "markdown",
   "id": "a93cf68c-4f3c-4a33-8389-8f4207a5a30b",
   "metadata": {},
   "source": [
    "De la (1) estamos en condiciones de calcular $\\tau$"
   ]
  },
  {
   "cell_type": "markdown",
   "id": "bbb3dde3-f979-42a7-8e30-8f3718ce0639",
   "metadata": {},
   "source": [
    "$$\\tau=\\mu\\frac{du}{dy}$$"
   ]
  },
  {
   "cell_type": "markdown",
   "id": "d517983b-90c3-4683-bcba-84a357a70c9a",
   "metadata": {},
   "source": [
    "Derivando (2)"
   ]
  },
  {
   "cell_type": "markdown",
   "id": "f37c4413-db28-4e7a-afa2-0dd74953285f",
   "metadata": {},
   "source": [
    "$$\\color{red}{\\tau=\\mu\\frac{V}{h}}$$"
   ]
  },
  {
   "cell_type": "markdown",
   "id": "3b118122-70fb-47ba-b874-e9246bb8112f",
   "metadata": {},
   "source": [
    "Ejemplo para el caso de aceite SAE30 a 20C, $\\mu=0.26 Ps·s$. Suponiendo que la placa superior se mueve a $V=3 m/s$ y $h=2 mm$"
   ]
  },
  {
   "cell_type": "code",
   "execution_count": 2,
   "id": "75993f1d-9756-49b1-8210-859936f7d328",
   "metadata": {},
   "outputs": [
    {
     "name": "stdout",
     "output_type": "stream",
     "text": [
      "390.0 Pa\n"
     ]
    }
   ],
   "source": [
    "tau=0.26*3/2e-3 # Pa·s * m/s / m\n",
    "print(tau, 'Pa')"
   ]
  },
  {
   "cell_type": "code",
   "execution_count": null,
   "id": "0a29e491-8783-47bf-9f1f-985b21c10791",
   "metadata": {},
   "outputs": [],
   "source": []
  }
 ],
 "metadata": {
  "kernelspec": {
   "display_name": "Python 3 (ipykernel)",
   "language": "python",
   "name": "python3"
  },
  "language_info": {
   "codemirror_mode": {
    "name": "ipython",
    "version": 3
   },
   "file_extension": ".py",
   "mimetype": "text/x-python",
   "name": "python",
   "nbconvert_exporter": "python",
   "pygments_lexer": "ipython3",
   "version": "3.7.11"
  }
 },
 "nbformat": 4,
 "nbformat_minor": 5
}
